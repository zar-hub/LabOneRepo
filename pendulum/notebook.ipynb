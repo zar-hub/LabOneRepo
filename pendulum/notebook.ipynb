{
 "cells": [
  {
   "cell_type": "markdown",
   "metadata": {},
   "source": [
    "# Gravità terrestre\n",
    "Dalle equazioni della dinamica il moto del pendolo, per piccoli angoli, può essere approssimato ad un oscillatore armonico con periodo dato dalla formula:\n",
    "\n",
    "$$ T = 2\\pi\\sqrt\\frac{l}{g}$$\n",
    "\n",
    "Possiamo quindi ottenere il valore della costante di gravità esplicitando $g$ nella precedente formula.\n",
    "\n",
    "$$ g = 4\\pi^2\\frac{l}{T^2}$$\n",
    "\n",
    "Il che significa che è possibile stimare la gravità terrestre partendo dalla misura del periodo di oscillazione del pendolo.\n",
    "Supponendo che non ci siano smorzamenti dovuti all'attrito il periodo del pendolo rimarrà pressochè costante: conviene prendere il valore $\\tau = 5T$ in modo da avere un'incertezza statistica minore."
   ]
  },
  {
   "cell_type": "code",
   "execution_count": 2,
   "metadata": {},
   "outputs": [],
   "source": [
    "%matplotlib inline\n",
    "import numpy as np\n",
    "from matplotlib import pyplot as plt\n",
    "import pandas as pd\n",
    "\n",
    "# import the data \n",
    "tof = pd.read_csv(\"data.csv\", delimiter=\" \")"
   ]
  },
  {
   "cell_type": "code",
   "execution_count": 3,
   "metadata": {},
   "outputs": [
    {
     "name": "stdout",
     "output_type": "stream",
     "text": [
      "[ 30  60 120 150]\n",
      "[[ 5.43  5.55  5.47  5.43  5.55  5.46  5.55  5.53  5.55  5.49]\n",
      " [ 7.73  7.76  7.84  7.75  7.83  7.86  7.73  7.82  7.7   7.77]\n",
      " [10.98 11.   10.98 11.   10.95 10.95 10.93 11.   10.98 10.99]\n",
      " [12.26 12.34 12.29 12.33 12.26 12.24 12.27 12.24 12.36 12.31]]\n",
      "$5.43$ & $7.73$ & $10.98$ & $12.26$ \\\\\n",
      "$5.55$ & $7.76$ & $11.0$ & $12.34$ \\\\\n",
      "$5.47$ & $7.84$ & $10.98$ & $12.29$ \\\\\n",
      "$5.43$ & $7.75$ & $11.0$ & $12.33$ \\\\\n",
      "$5.55$ & $7.83$ & $10.95$ & $12.26$ \\\\\n",
      "$5.46$ & $7.86$ & $10.95$ & $12.24$ \\\\\n",
      "$5.55$ & $7.73$ & $10.93$ & $12.27$ \\\\\n",
      "$5.53$ & $7.82$ & $11.0$ & $12.24$ \\\\\n",
      "$5.55$ & $7.7$ & $10.98$ & $12.36$ \\\\\n",
      "$5.49$ & $7.77$ & $10.99$ & $12.31$ \\\\\n",
      "\n"
     ]
    }
   ],
   "source": [
    "# get the values without duplicates\n",
    "filter_values = tof[\"l\"].unique()\n",
    "# remove 100 from the list\n",
    "filter_values = filter_values[filter_values != 100]\n",
    "print(filter_values)\n",
    "\n",
    "stacked = np.zeros((0,10))\n",
    "\n",
    "for i in filter_values:\n",
    "    values = tof[tof[\"l\"] == i][\"tau\"].values\n",
    "    # print(values)\n",
    "    stacked = np.append(stacked, [values], axis=0)\n",
    "    \n",
    "print(stacked)\n",
    "\n",
    "# print the latex code \n",
    "if(True):\n",
    "    mstr = \"\"\n",
    "    for row in range(10):\n",
    "        for col, fil in enumerate(filter_values):\n",
    "            mstr = mstr + f\"${stacked[col,row]}$ & \"\n",
    "        mstr = mstr[: -2]\n",
    "        mstr += \"\\\\\\\\\\n\"\n",
    "        \n",
    "    print(mstr)\n"
   ]
  },
  {
   "cell_type": "code",
   "execution_count": 4,
   "metadata": {},
   "outputs": [
    {
     "name": "stdout",
     "output_type": "stream",
     "text": [
      " & $10.04$ & $10.06$ & $10.12$ & $10.01$ & $10.0$ & $10.0$ & $10.07$ & $10.18$ & $10.33$\\\\\n",
      " & $10.04$ & $10.06$ & $9.96$ & $10.04$ & $10.0$ & $10.01$ & $10.12$ & $10.12$ & $10.41$\\\\\n",
      " & $10.04$ & $9.99$ & $10.0$ & $9.99$ & $10.05$ & $10.03$ & $10.04$ & $10.06$ & $10.36$\\\\\n",
      " & $9.99$ & $10.06$ & $10.01$ & $10.05$ & $10.04$ & $9.95$ & $10.18$ & $10.12$ & $10.26$\\\\\n",
      " & $10.04$ & $10.07$ & $10.02$ & $10.07$ & $10.03$ & $10.06$ & $10.12$ & $10.18$ & $10.33$\\\\\n",
      " & $10.06$ & $10.03$ & $10.02$ & $10.04$ & $9.95$ & $9.96$ & $10.15$ & $10.13$ & $10.32$\\\\\n",
      " & $9.96$ & $10.05$ & $10.12$ & $10.03$ & $10.06$ & $10.07$ & $10.09$ & $10.1$ & $10.27$\\\\\n",
      " & $10.04$ & $10.06$ & $9.97$ & $10.01$ & $10.05$ & $10.09$ & $10.1$ & $10.12$ & $10.24$\\\\\n",
      " & $10.08$ & $9.98$ & $10.04$ & $10.02$ & $10.04$ & $10.01$ & $10.09$ & $10.26$ & $10.32$\\\\\n",
      " & $10.06$ & $10.01$ & $10.07$ & $10.06$ & $10.04$ & $10.0$ & $10.04$ & $10.21$ & $10.29$\\\\\n",
      " & $10.07$ & $10.06$ & $10.06$ & $10.03$ & $10.1$ & $10.04$ & $10.07$ & $10.18$ & $10.27$\\\\\n",
      " & $10.06$ & $10.03$ & $10.0$ & $10.01$ & $10.13$ & $10.12$ & $10.1$ & $10.2$ & $10.24$\\\\\n",
      " & $10.04$ & $10.11$ & $10.05$ & $10.05$ & $10.05$ & $10.04$ & $10.13$ & $10.18$ & $10.32$\\\\\n",
      " & $10.04$ & $10.05$ & $10.04$ & $10.03$ & $10.05$ & $9.95$ & $10.09$ & $10.15$ & $10.32$\\\\\n",
      " & $10.02$ & $10.04$ & $10.05$ & $10.02$ & $10.02$ & $9.95$ & $10.16$ & $10.23$ & $10.3$\\\\\n",
      " & $10.08$ & $10.0$ & $10.06$ & $10.07$ & $9.96$ & $10.06$ & $10.07$ & $10.12$ & $10.24$\\\\\n",
      " & $10.03$ & $10.03$ & $10.01$ & $10.06$ & $10.07$ & $10.12$ & $10.07$ & $10.29$ & $10.27$\\\\\n",
      " & $10.07$ & $10.0$ & $10.02$ & $10.09$ & $10.02$ & $10.1$ & $10.15$ & $10.26$ & $10.32$\\\\\n",
      " & $10.02$ & $10.05$ & $10.01$ & $10.01$ & $10.02$ & $10.09$ & $10.13$ & $10.2$ & $10.32$\\\\\n",
      " & $10.02$ & $10.05$ & $10.04$ & $9.97$ & $10.06$ & $10.1$ & $10.07$ & $10.21$ & $10.24$\\\\\n",
      "\n"
     ]
    }
   ],
   "source": [
    "filtered = tof[tof['l'] == 100].drop(columns='l')\n",
    "\n",
    "stacked = np.zeros((0,20))\n",
    "for i in range (9):\n",
    "    stacked = np.append(stacked, [filtered['tau'][20 * i:20 * (i + 1)]], axis=0)\n",
    "stacked\n",
    "\n",
    "# print the latex code \n",
    "if(True):   \n",
    "    mstr = \"\"\n",
    "    for row in range(20):\n",
    "        for col in range(9):\n",
    "            mstr = mstr + f\" & ${stacked[col,row]}$\"\n",
    "        #str = str[: -2]\n",
    "        mstr += \"\\\\\\\\\\n\"\n",
    "            \n",
    "    print(mstr)"
   ]
  },
  {
   "cell_type": "code",
   "execution_count": 5,
   "metadata": {},
   "outputs": [
    {
     "name": "stdout",
     "output_type": "stream",
     "text": [
      "0.002\n",
      "124.235\n"
     ]
    }
   ],
   "source": [
    "def firstNonZero(x):\n",
    "    num_str = str(x)\n",
    "    # Iterate through each character in the string\n",
    "    for i, char in enumerate(num_str):\n",
    "        # If the character is a non-zero digit, return it\n",
    "        if char != '0' and char != '.':\n",
    "            # Do stuff based on next digit\n",
    "            return i\n",
    "    \n",
    "    # If no non-zero digit is found, return None\n",
    "    return None\n",
    "\n",
    "def fmtError(sigma):\n",
    "    '''\n",
    "        Works only for decimal numbers, do not try to use it with numbers bigger \n",
    "        than 10\n",
    "    '''\n",
    "    # Convert the number to a string\n",
    "    \n",
    "    i = firstNonZero(sigma)\n",
    "    sigma_str = str(sigma)\n",
    "    \n",
    "    # Do stuff based on next digit\n",
    "    try:\n",
    "        if sigma_str[i + 1] >= '5':\n",
    "            sigma_str = sigma_str[:i] + str(int(sigma_str[i]) + 1)\n",
    "    \n",
    "        else: \n",
    "            sigma_str = sigma_str[:i + 1]\n",
    "    except:\n",
    "        # it was the last digit\n",
    "        pass\n",
    "    return sigma_str\n",
    "\n",
    "def fmtLike(x, err):\n",
    "    x = str(x)\n",
    "    err = str(err)\n",
    "    x = x[:x.find('.') + len(err) - 1]\n",
    "    return x\n",
    "    \n",
    "\n",
    "x = 124.23578\n",
    "err = 0.002\n",
    "\n",
    "err = fmtError(err)\n",
    "print(err)\n",
    "print(fmtLike(x, err))\n",
    "\n",
    "\n",
    "\n"
   ]
  },
  {
   "cell_type": "markdown",
   "metadata": {},
   "source": [
    "## Stima del valore di g dal campione principale\n",
    "Il campione più grande è quello contenente i 100 valori. L'errore principale di questa misura è di tipo statistico e corrisponde al fatto che c'è un errore umano nei tempi di reazione nello start and stop del cronometro. Ipotizzando che la distribuzione di questo errore sia gaussiana è possibile stimare media e varianza dal campione usando la formula:"
   ]
  },
  {
   "cell_type": "code",
   "execution_count": 6,
   "metadata": {},
   "outputs": [
    {
     "name": "stdout",
     "output_type": "stream",
     "text": [
      "[ 10  10 100  20  20  20  20  10  10]\n"
     ]
    },
    {
     "data": {
      "text/html": [
       "<div>\n",
       "<style scoped>\n",
       "    .dataframe tbody tr th:only-of-type {\n",
       "        vertical-align: middle;\n",
       "    }\n",
       "\n",
       "    .dataframe tbody tr th {\n",
       "        vertical-align: top;\n",
       "    }\n",
       "\n",
       "    .dataframe thead tr th {\n",
       "        text-align: left;\n",
       "    }\n",
       "\n",
       "    .dataframe thead tr:last-of-type th {\n",
       "        text-align: right;\n",
       "    }\n",
       "</style>\n",
       "<table border=\"1\" class=\"dataframe\">\n",
       "  <thead>\n",
       "    <tr>\n",
       "      <th></th>\n",
       "      <th></th>\n",
       "      <th colspan=\"3\" halign=\"left\">tau</th>\n",
       "      <th colspan=\"2\" halign=\"left\">T</th>\n",
       "      <th colspan=\"2\" halign=\"left\">g</th>\n",
       "      <th># of events</th>\n",
       "    </tr>\n",
       "    <tr>\n",
       "      <th></th>\n",
       "      <th></th>\n",
       "      <th>mean</th>\n",
       "      <th>std</th>\n",
       "      <th>std (mean)</th>\n",
       "      <th>mean</th>\n",
       "      <th>std</th>\n",
       "      <th>mean</th>\n",
       "      <th>std</th>\n",
       "      <th></th>\n",
       "    </tr>\n",
       "    <tr>\n",
       "      <th>l</th>\n",
       "      <th>theta</th>\n",
       "      <th></th>\n",
       "      <th></th>\n",
       "      <th></th>\n",
       "      <th></th>\n",
       "      <th></th>\n",
       "      <th></th>\n",
       "      <th></th>\n",
       "      <th></th>\n",
       "    </tr>\n",
       "  </thead>\n",
       "  <tbody>\n",
       "    <tr>\n",
       "      <th>30</th>\n",
       "      <th>5</th>\n",
       "      <td>5.5010</td>\n",
       "      <td>0.050870</td>\n",
       "      <td>0.016087</td>\n",
       "      <td>1.10020</td>\n",
       "      <td>0.003217</td>\n",
       "      <td>9.784479</td>\n",
       "      <td>0.060244</td>\n",
       "      <td>10</td>\n",
       "    </tr>\n",
       "    <tr>\n",
       "      <th>60</th>\n",
       "      <th>5</th>\n",
       "      <td>7.7790</td>\n",
       "      <td>0.054661</td>\n",
       "      <td>0.017285</td>\n",
       "      <td>1.55580</td>\n",
       "      <td>0.003457</td>\n",
       "      <td>9.785960</td>\n",
       "      <td>0.044497</td>\n",
       "      <td>10</td>\n",
       "    </tr>\n",
       "    <tr>\n",
       "      <th rowspan=\"5\" valign=\"top\">100</th>\n",
       "      <th>5</th>\n",
       "      <td>10.0366</td>\n",
       "      <td>0.034413</td>\n",
       "      <td>0.003441</td>\n",
       "      <td>2.00732</td>\n",
       "      <td>0.000688</td>\n",
       "      <td>9.797754</td>\n",
       "      <td>0.008783</td>\n",
       "      <td>100</td>\n",
       "    </tr>\n",
       "    <tr>\n",
       "      <th>10</th>\n",
       "      <td>10.0375</td>\n",
       "      <td>0.057297</td>\n",
       "      <td>0.012812</td>\n",
       "      <td>2.00750</td>\n",
       "      <td>0.002562</td>\n",
       "      <td>9.795997</td>\n",
       "      <td>0.025639</td>\n",
       "      <td>20</td>\n",
       "    </tr>\n",
       "    <tr>\n",
       "      <th>20</th>\n",
       "      <td>10.1020</td>\n",
       "      <td>0.039417</td>\n",
       "      <td>0.008814</td>\n",
       "      <td>2.02040</td>\n",
       "      <td>0.001763</td>\n",
       "      <td>9.671304</td>\n",
       "      <td>0.017776</td>\n",
       "      <td>20</td>\n",
       "    </tr>\n",
       "    <tr>\n",
       "      <th>30</th>\n",
       "      <td>10.1750</td>\n",
       "      <td>0.059868</td>\n",
       "      <td>0.013387</td>\n",
       "      <td>2.03500</td>\n",
       "      <td>0.002677</td>\n",
       "      <td>9.533029</td>\n",
       "      <td>0.025681</td>\n",
       "      <td>20</td>\n",
       "    </tr>\n",
       "    <tr>\n",
       "      <th>40</th>\n",
       "      <td>10.2985</td>\n",
       "      <td>0.045105</td>\n",
       "      <td>0.010086</td>\n",
       "      <td>2.05970</td>\n",
       "      <td>0.002017</td>\n",
       "      <td>9.305759</td>\n",
       "      <td>0.019002</td>\n",
       "      <td>20</td>\n",
       "    </tr>\n",
       "    <tr>\n",
       "      <th>120</th>\n",
       "      <th>5</th>\n",
       "      <td>10.9760</td>\n",
       "      <td>0.024585</td>\n",
       "      <td>0.007775</td>\n",
       "      <td>2.19520</td>\n",
       "      <td>0.001555</td>\n",
       "      <td>9.830889</td>\n",
       "      <td>0.014708</td>\n",
       "      <td>10</td>\n",
       "    </tr>\n",
       "    <tr>\n",
       "      <th>150</th>\n",
       "      <th>5</th>\n",
       "      <td>12.2900</td>\n",
       "      <td>0.042947</td>\n",
       "      <td>0.013581</td>\n",
       "      <td>2.45800</td>\n",
       "      <td>0.002716</td>\n",
       "      <td>9.801380</td>\n",
       "      <td>0.021988</td>\n",
       "      <td>10</td>\n",
       "    </tr>\n",
       "  </tbody>\n",
       "</table>\n",
       "</div>"
      ],
      "text/plain": [
       "               tau                             T                   g  \\\n",
       "              mean       std std (mean)     mean       std      mean   \n",
       "l   theta                                                              \n",
       "30  5       5.5010  0.050870   0.016087  1.10020  0.003217  9.784479   \n",
       "60  5       7.7790  0.054661   0.017285  1.55580  0.003457  9.785960   \n",
       "100 5      10.0366  0.034413   0.003441  2.00732  0.000688  9.797754   \n",
       "    10     10.0375  0.057297   0.012812  2.00750  0.002562  9.795997   \n",
       "    20     10.1020  0.039417   0.008814  2.02040  0.001763  9.671304   \n",
       "    30     10.1750  0.059868   0.013387  2.03500  0.002677  9.533029   \n",
       "    40     10.2985  0.045105   0.010086  2.05970  0.002017  9.305759   \n",
       "120 5      10.9760  0.024585   0.007775  2.19520  0.001555  9.830889   \n",
       "150 5      12.2900  0.042947   0.013581  2.45800  0.002716  9.801380   \n",
       "\n",
       "                    # of events  \n",
       "                std              \n",
       "l   theta                        \n",
       "30  5      0.060244          10  \n",
       "60  5      0.044497          10  \n",
       "100 5      0.008783         100  \n",
       "    10     0.025639          20  \n",
       "    20     0.017776          20  \n",
       "    30     0.025681          20  \n",
       "    40     0.019002          20  \n",
       "120 5      0.014708          10  \n",
       "150 5      0.021988          10  "
      ]
     },
     "execution_count": 6,
     "metadata": {},
     "output_type": "execute_result"
    }
   ],
   "source": [
    "results = tof.groupby(['l', 'theta'])\n",
    "\n",
    "# count how many samples in each group\n",
    "counts = results.count().values.flatten()\n",
    "print(counts)\n",
    "\n",
    "# aggregate using mean and variance\n",
    "# change the name of the lambda function\n",
    "# to show std in the df\n",
    "mystd = lambda x: np.std(x, ddof=1)\n",
    "mystd.__name__ = 'std'\n",
    "results = results.agg(['mean', mystd], )\n",
    "results['tau', 'std (mean)'] = results['tau', 'std'] / np.sqrt(counts) \n",
    "\n",
    "# get the l-index\n",
    "L = results.index.get_level_values(level='l') / 100 \n",
    "sigL = 1e-3 / np.sqrt(3)# meters\n",
    "       \n",
    "results['T', 'mean'] = results['tau', 'mean'] / 5 \n",
    "results['T', 'std'] = results['tau', 'std (mean)'] / 5\n",
    "results['g', 'mean'] = 4 * np.pi ** 2 * L / results['T', 'mean'] ** 2\n",
    "results['g', 'std'] = results['g', 'mean'] * np.sqrt(\n",
    "    4 * results['T', 'std'] ** 2 / results['T', 'mean'] ** 2 +\n",
    "    sigL ** 2 / L ** 2)\n",
    "results['# of events'] = counts\n",
    "\n",
    "results"
   ]
  },
  {
   "cell_type": "code",
   "execution_count": 7,
   "metadata": {},
   "outputs": [
    {
     "name": "stdout",
     "output_type": "stream",
     "text": [
      " & & 5.50 & 0.05 & 0.02 & & 1.100 & 0.003 & & 9.78 & 0.06 & & 10\\\\\n",
      " & & 7.77 & 0.05 & 0.02 & & 1.555 & 0.003 & & 9.78 & 0.04 & & 10\\\\\n",
      " & & 10.03 & 0.03 & 0.003 & & 2.0073 & 0.0007 & & 9.797 & 0.009 & & 100\\\\\n",
      " & & 10.03 & 0.06 & 0.01 & & 2.007 & 0.003 & & 9.79 & 0.03 & & 20\\\\\n",
      " & & 10.10 & 0.04 & 0.009 & & 2.020 & 0.002 & & 9.67 & 0.02 & & 20\\\\\n",
      " & & 10.17 & 0.06 & 0.01 & & 2.035 & 0.003 & & 9.53 & 0.03 & & 20\\\\\n",
      " & & 10.29 & 0.05 & 0.01 & & 2.059 & 0.002 & & 9.30 & 0.02 & & 20\\\\\n",
      " & & 10.97 & 0.02 & 0.008 & & 2.195 & 0.002 & & 9.83 & 0.01 & & 10\\\\\n",
      " & & 12.29 & 0.04 & 0.01 & & 2.458 & 0.003 & & 9.80 & 0.02 & & 10\\\\\n",
      "\n"
     ]
    }
   ],
   "source": [
    "# generate corresponding latex table\n",
    "stacked = results.values\n",
    "l = results.index.get_level_values(level='l')\n",
    "theta = results.index.get_level_values(level='theta')\n",
    "\n",
    "if(True):   \n",
    "    mstr = \"\"\n",
    "    for row in range(9):\n",
    "\n",
    "        # format all the errors\n",
    "        for idx in [1, 2, 4, 6]:\n",
    "            stacked[row][idx] = fmtError(stacked[row][idx])\n",
    "            \n",
    "            \n",
    "        tau, tau_std, tau_std_mean, T, T_std, g, g_std, cnts = stacked[row]\n",
    "\n",
    "        # and all the numbers\n",
    "        tau = fmtLike(tau, tau_std)\n",
    "        T = fmtLike(T, T_std)\n",
    "        g = fmtLike(g, g_std)\n",
    "        \n",
    "        mstr += f\" & & {tau} & {tau_std} & {tau_std_mean}\"\n",
    "        mstr += f\" & & {T} & {T_std}\"\n",
    "        mstr += f\" & & {g} & {g_std}\"\n",
    "        mstr += f\" & & {int(cnts)}\"\n",
    "        \n",
    "        mstr += \"\\\\\\\\\\n\"\n",
    "            \n",
    "    print(mstr)"
   ]
  },
  {
   "cell_type": "markdown",
   "metadata": {},
   "source": [
    "I risultati per $l=150$ vengono parecchio differenti. Provo a fare un analisi più approfondita per capire che cos'è successo...\n",
    "\n",
    "PS: sembra che ci siano stati degli errori di calcolo nella relazione vecchia."
   ]
  },
  {
   "cell_type": "code",
   "execution_count": 8,
   "metadata": {},
   "outputs": [
    {
     "name": "stdout",
     "output_type": "stream",
     "text": [
      "             tau\n",
      "count  10.000000\n",
      "mean    2.458000\n",
      "std     0.008589\n",
      "min     2.448000\n",
      "25%     2.452000\n",
      "50%     2.456000\n",
      "75%     2.465000\n",
      "max     2.472000\n"
     ]
    },
    {
     "data": {
      "text/plain": [
       "(tau    9.80138\n",
       " dtype: float64,\n",
       " tau    0.068605\n",
       " dtype: float64)"
      ]
     },
     "execution_count": 8,
     "metadata": {},
     "output_type": "execute_result"
    }
   ],
   "source": [
    "subset = tof[tof.l == 150].drop(['l', 'theta'], axis=1) / 5\n",
    "\n",
    "print(subset.describe())\n",
    "\n",
    "g = 4 * np.pi ** 2 * 1.5 / subset.mean() ** 2\n",
    "sig = g * np.sqrt(\n",
    "    4 * (subset.std() / subset.mean()) ** 2 +\n",
    "    (sigL / 1.5) ** 2)\n",
    "g, sig"
   ]
  },
  {
   "cell_type": "code",
   "execution_count": 9,
   "metadata": {},
   "outputs": [
    {
     "name": "stdout",
     "output_type": "stream",
     "text": [
      "             tau\n",
      "count  10.000000\n",
      "mean    2.195200\n",
      "std     0.004917\n",
      "min     2.186000\n",
      "25%     2.191500\n",
      "50%     2.196000\n",
      "75%     2.199500\n",
      "max     2.200000\n",
      "0.004917090377222962\n"
     ]
    },
    {
     "data": {
      "text/plain": [
       "(tau    9.830889\n",
       " dtype: float64,\n",
       " tau    0.044294\n",
       " dtype: float64)"
      ]
     },
     "execution_count": 9,
     "metadata": {},
     "output_type": "execute_result"
    }
   ],
   "source": [
    "def myvar(x):\n",
    "    mean = x.mean()\n",
    "    return ((x - mean) ** 2).sum() / (x.count() - 1)\n",
    "\n",
    "subset = tof[tof.l == 120].drop(['l', 'theta'], axis=1) / 5\n",
    "\n",
    "print(subset.describe())\n",
    "print(np.sqrt(myvar(subset['tau'])))\n",
    "\n",
    "g = 4 * np.pi ** 2 * 1.2 / subset.mean() ** 2\n",
    "sig = g * np.sqrt(\n",
    "    4 * (subset.std() / subset.mean()) ** 2 +\n",
    "    (sigL / 1.2) ** 2)\n",
    "g, sig"
   ]
  },
  {
   "cell_type": "markdown",
   "metadata": {},
   "source": [
    "La stima migliore per il valore finale di $g$ è la media pesata dei valori ottenuti usando come peso l'inverso delle loro varianze."
   ]
  },
  {
   "cell_type": "code",
   "execution_count": 10,
   "metadata": {},
   "outputs": [
    {
     "data": {
      "text/html": [
       "<div>\n",
       "<style scoped>\n",
       "    .dataframe tbody tr th:only-of-type {\n",
       "        vertical-align: middle;\n",
       "    }\n",
       "\n",
       "    .dataframe tbody tr th {\n",
       "        vertical-align: top;\n",
       "    }\n",
       "\n",
       "    .dataframe thead tr th {\n",
       "        text-align: left;\n",
       "    }\n",
       "\n",
       "    .dataframe thead tr:last-of-type th {\n",
       "        text-align: right;\n",
       "    }\n",
       "</style>\n",
       "<table border=\"1\" class=\"dataframe\">\n",
       "  <thead>\n",
       "    <tr>\n",
       "      <th></th>\n",
       "      <th></th>\n",
       "      <th colspan=\"3\" halign=\"left\">tau</th>\n",
       "      <th colspan=\"2\" halign=\"left\">T</th>\n",
       "      <th colspan=\"2\" halign=\"left\">g</th>\n",
       "      <th># of events</th>\n",
       "    </tr>\n",
       "    <tr>\n",
       "      <th></th>\n",
       "      <th></th>\n",
       "      <th>mean</th>\n",
       "      <th>std</th>\n",
       "      <th>std (mean)</th>\n",
       "      <th>mean</th>\n",
       "      <th>std</th>\n",
       "      <th>mean</th>\n",
       "      <th>std</th>\n",
       "      <th></th>\n",
       "    </tr>\n",
       "    <tr>\n",
       "      <th>l</th>\n",
       "      <th>theta</th>\n",
       "      <th></th>\n",
       "      <th></th>\n",
       "      <th></th>\n",
       "      <th></th>\n",
       "      <th></th>\n",
       "      <th></th>\n",
       "      <th></th>\n",
       "      <th></th>\n",
       "    </tr>\n",
       "  </thead>\n",
       "  <tbody>\n",
       "    <tr>\n",
       "      <th>30</th>\n",
       "      <th>5</th>\n",
       "      <td>5.5010</td>\n",
       "      <td>0.050870</td>\n",
       "      <td>0.016087</td>\n",
       "      <td>1.10020</td>\n",
       "      <td>0.003217</td>\n",
       "      <td>9.784479</td>\n",
       "      <td>0.060244</td>\n",
       "      <td>10</td>\n",
       "    </tr>\n",
       "    <tr>\n",
       "      <th>60</th>\n",
       "      <th>5</th>\n",
       "      <td>7.7790</td>\n",
       "      <td>0.054661</td>\n",
       "      <td>0.017285</td>\n",
       "      <td>1.55580</td>\n",
       "      <td>0.003457</td>\n",
       "      <td>9.785960</td>\n",
       "      <td>0.044497</td>\n",
       "      <td>10</td>\n",
       "    </tr>\n",
       "    <tr>\n",
       "      <th>100</th>\n",
       "      <th>5</th>\n",
       "      <td>10.0366</td>\n",
       "      <td>0.034413</td>\n",
       "      <td>0.003441</td>\n",
       "      <td>2.00732</td>\n",
       "      <td>0.000688</td>\n",
       "      <td>9.797754</td>\n",
       "      <td>0.008783</td>\n",
       "      <td>100</td>\n",
       "    </tr>\n",
       "    <tr>\n",
       "      <th>120</th>\n",
       "      <th>5</th>\n",
       "      <td>10.9760</td>\n",
       "      <td>0.024585</td>\n",
       "      <td>0.007775</td>\n",
       "      <td>2.19520</td>\n",
       "      <td>0.001555</td>\n",
       "      <td>9.830889</td>\n",
       "      <td>0.014708</td>\n",
       "      <td>10</td>\n",
       "    </tr>\n",
       "    <tr>\n",
       "      <th>150</th>\n",
       "      <th>5</th>\n",
       "      <td>12.2900</td>\n",
       "      <td>0.042947</td>\n",
       "      <td>0.013581</td>\n",
       "      <td>2.45800</td>\n",
       "      <td>0.002716</td>\n",
       "      <td>9.801380</td>\n",
       "      <td>0.021988</td>\n",
       "      <td>10</td>\n",
       "    </tr>\n",
       "  </tbody>\n",
       "</table>\n",
       "</div>"
      ],
      "text/plain": [
       "               tau                             T                   g  \\\n",
       "              mean       std std (mean)     mean       std      mean   \n",
       "l   theta                                                              \n",
       "30  5       5.5010  0.050870   0.016087  1.10020  0.003217  9.784479   \n",
       "60  5       7.7790  0.054661   0.017285  1.55580  0.003457  9.785960   \n",
       "100 5      10.0366  0.034413   0.003441  2.00732  0.000688  9.797754   \n",
       "120 5      10.9760  0.024585   0.007775  2.19520  0.001555  9.830889   \n",
       "150 5      12.2900  0.042947   0.013581  2.45800  0.002716  9.801380   \n",
       "\n",
       "                    # of events  \n",
       "                std              \n",
       "l   theta                        \n",
       "30  5      0.060244          10  \n",
       "60  5      0.044497          10  \n",
       "100 5      0.008783         100  \n",
       "120 5      0.014708          10  \n",
       "150 5      0.021988          10  "
      ]
     },
     "execution_count": 10,
     "metadata": {},
     "output_type": "execute_result"
    }
   ],
   "source": [
    "# filter only the small angles\n",
    "sample = results.iloc[results.index.get_level_values('theta') == 5]\n",
    "\n",
    "# print and save the results\n",
    "sample.to_csv('res.csv')\n",
    "\n",
    "var = 1 / ( 1 / sample['g', 'std'] ** 2).sum() \n",
    "g = (sample['g', 'mean'] / sample['g', 'std'] ** 2).sum() * var\n",
    "\n",
    "g, np.sqrt(var)\n",
    "sample\n",
    "    "
   ]
  },
  {
   "cell_type": "markdown",
   "metadata": {},
   "source": [
    "Adesso alcuni istogrammi richiesti delle misure:"
   ]
  },
  {
   "cell_type": "code",
   "execution_count": 11,
   "metadata": {},
   "outputs": [
    {
     "name": "stderr",
     "output_type": "stream",
     "text": [
      "/tmp/ipykernel_4669/1693768500.py:5: UserWarning: FigureCanvasAgg is non-interactive, and thus cannot be shown\n",
      "  fig.show()\n"
     ]
    },
    {
     "data": {
      "image/png": "[encoded data removed]",
      "text/plain": [
       "<Figure size 640x480 with 1 Axes>"
      ]
     },
     "metadata": {},
     "output_type": "display_data"
    }
   ],
   "source": [
    "fig, ax = plt.subplots()\n",
    "ax.plot(sample.index.get_level_values('l'), sample['g', 'mean'], 'o',\n",
    "        sample.index.get_level_values('l'), np.ones_like(sample.index.get_level_values('l')) * 9.81)\n",
    "ax.set(ylim=[9.69,9.90])\n",
    "fig.show()"
   ]
  },
  {
   "cell_type": "markdown",
   "metadata": {},
   "source": [
    "## Misura di ta\n",
    "Faccio l'analisi dati del tempo caratteristico del pendolo, andando a prendere angoli grandi per studiare lo smorzamento."
   ]
  },
  {
   "cell_type": "code",
   "execution_count": 12,
   "metadata": {},
   "outputs": [
    {
     "name": "stdout",
     "output_type": "stream",
     "text": [
      "[0.00368189 0.00063874]\n",
      "[ 271.59928235 1565.57523129]\n"
     ]
    },
    {
     "data": {
      "image/png": "[encoded data removed]",
      "text/plain": [
       "<Figure size 640x480 with 1 Axes>"
      ]
     },
     "metadata": {},
     "output_type": "display_data"
    }
   ],
   "source": [
    "ta = pd.read_csv('ta.csv', delimiter=' ')\n",
    "\n",
    "x = ta['t']\n",
    "y = np.log(ta['theta'][0] / ta['theta'])\n",
    "\n",
    "coef = np.polyfit(x, y, 1)\n",
    "print(coef)\n",
    "print(1 / coef)\n",
    "\n",
    "fig, ax = plt.subplots()\n",
    "ax.plot(x, y, 'o', x, np.poly1d(coef)(x), '--k')\n",
    "ax.set(xlabel='time (s)',\n",
    "       ylabel='angle (deg)')\n",
    "plt.show()"
   ]
  },
  {
   "cell_type": "markdown",
   "metadata": {},
   "source": [
    "# Gaussian model of the data\n",
    "\n",
    "\\section{Confronto istogramma e gaussiana}\n",
    "Gli errori sul campione di cento misure sono di tipo statistico e per questo ci aspettiamo seguano un andamento gaussiano. Pertanto saranno modellati da una funzione di distribuzione normale a due parametri $\\sigma$ e $\\mu$ secondo la seguente formula:\n",
    "\n",
    "\\begin{equation}\n",
    "    f(\\tau) = \\dfrac{1}{\\sqrt{2\\pi\\sigma^2}}\\exp\\left[-\\dfrac{\\left(\\tau - \\mu \\right)^2}{2\\sigma^2}\\right]\n",
    "\\end{equation}\n",
    "\n",
    "Dal campione è possibile ricavare la stima migliore dei due parametri $\\sigma^*$ $\\mu^*$ che descrivono la distribuzione. \n",
    "\\begin{equation}\n",
    "    \\begin{cases}\n",
    "        \\mu^* = \\dfrac{1}{100} \\sum_{i=1}^{100} \\tau_i = 10.04\\,\\mathrm{s}\\\\[3ex]\n",
    "        \\sigma^* = \\sqrt{\\dfrac{1}{100-1} \\sum_{i=1}^{100} (\\tau_i - \\bar{\\tau})^2}\n",
    "    \\end{cases}\n",
    "\\end{equation}\n",
    "\n",
    "Trovati questi parametri bisogna confrontare che i dati e il modello siano compatibili, per farlo vediamo se gli eventi in ogni bin sono compatibili con quelli predetti dalla gaussiana. Il numero di eventi in ogni bin segue una distribuzione binomiale dove il numero di eventi attesi è $n_{tot}f(\\tau_i)\\Delta\\tau$ dove $n_{tot}$ è il numero totale di eventi, $f(\\tau_i)$ è il valore della gaussiana nella metà del bine e $\\Delta\\tau$ è ampiezza del bin.\n",
    "\n",
    "L'intervallo $\\Delta\\tau$ può essere scelto in maniera arbitraria ma esistono delle scelte canoniche, abbiamo adottato una di queste, ovvero il criterio della radice\n",
    "\n",
    "\\begin{equation}\n",
    "    \\Delta\\tau = \\frac{\\left| max(\\tau_i) - min(\\tau_i)\\right|}{\\sqrt{100}}\\approx 0.02\\,s\n",
    "\\end{equation}\n",
    "\n",
    "La deviazione standard del numero di eventi nel bin è data dalla formula per valida per la distribuzione binomiale:\n",
    "\n",
    "\\begin{equation}\n",
    "    \\sigma_{n_i} = \\sqrt{n_{tot}\\left(1-\\dfrac{n_i}{n_{tot}}\\right)} \\approx \\sqrt{n_i}\n",
    "\\end{equation}\n",
    "\n",
    "dove l'ultima approssimazione fatta è giustificata poiché troviamo $n_{tot}\\gg n_i$. Le misure sono compatibili quando il loro valore è entro tre sigma da quello atteso:\n",
    "\n",
    "\\begin{equation}\n",
    "    \\left| n_i - n_{tot}f(\\tau_i)\\Delta\\tau\\right| < 3\\sigma_{n_i}\n",
    "\\end{equation}"
   ]
  },
  {
   "cell_type": "code",
   "execution_count": 44,
   "metadata": {},
   "outputs": [
    {
     "name": "stdout",
     "output_type": "stream",
     "text": [
      "95     9.96\n",
      "96    10.07\n",
      "97    10.02\n",
      "98    10.02\n",
      "99    10.06\n",
      "Name: tau, dtype: float64\n",
      "mu 10.0366, sigma  0.034, dtau  0.018\n"
     ]
    },
    {
     "name": "stderr",
     "output_type": "stream",
     "text": [
      "/tmp/ipykernel_4669/1327418776.py:1: UserWarning: Boolean Series key will be reindexed to match DataFrame index.\n",
      "  filtered = tof[tof['l'] == 100][tof['theta'] == 5].loc[:, 'tau']\n"
     ]
    }
   ],
   "source": [
    "filtered = tof[tof['l'] == 100][tof['theta'] == 5].loc[:, 'tau']\n",
    "\n",
    "mu = filtered.mean()\n",
    "sig = filtered.std(ddof=1)\n",
    "dtau = abs(filtered.max() - filtered.min()) / 10\n",
    "\n",
    "print(filtered.tail())\n",
    "print(f'mu {mu}, sigma {sig : .3f}, dtau {dtau : .3f}')"
   ]
  },
  {
   "cell_type": "code",
   "execution_count": 74,
   "metadata": {},
   "outputs": [
    {
     "data": {
      "image/png": "[encoded data removed]",
      "text/plain": [
       "<Figure size 640x480 with 1 Axes>"
      ]
     },
     "metadata": {},
     "output_type": "display_data"
    }
   ],
   "source": [
    "from scipy.stats.distributions import norm\n",
    "mids = lambda x : (x[:-1] + x[1:]) /2\n",
    "\n",
    "x = np.arange(mu - 4*sig, mu + 4*sig, dtau)\n",
    "\n",
    "counts, *_ = plt.hist(filtered.values , x)\n",
    "\n",
    "_ = plt.errorbar(mids(x), norm.pdf(mids(x), mu, sig)* 100 * dtau, yerr = np.sqrt(counts),\n",
    "             capsize=3)"
   ]
  },
  {
   "cell_type": "markdown",
   "metadata": {},
   "source": [
    "Adesso genero gli elementi che andranno a popolare la tabella in formato latex:"
   ]
  },
  {
   "cell_type": "code",
   "execution_count": 103,
   "metadata": {},
   "outputs": [
    {
     "name": "stdout",
     "output_type": "stream",
     "text": [
      "(9.90, 9.92) & 0 & 0.02 &  0.00&  0.00\\\\\n",
      "(9.92, 9.93) & 0 & 0.12 &  0.00&  0.00\\\\\n",
      "(9.93, 9.95) & 1 & 0.56 &  1.00&  3.00\\\\\n",
      "(9.95, 9.97) & 5 & 1.98 &  2.24&  6.71\\\\\n",
      "(9.97, 9.99) & 1 & 5.38 &  1.00&  3.00\\\\\n",
      "(9.99, 10.01) & 9 & 11.10 &  3.00&  9.00\\\\\n",
      "(10.01, 10.02) & 19 & 17.43 &  4.36&  13.08\\\\\n",
      "(10.02, 10.04) & 24 & 20.80 &  4.90&  14.70\\\\\n",
      "(10.04, 10.06) & 26 & 18.89 &  5.10&  15.30\\\\\n",
      "(10.06, 10.08) & 7 & 13.05 &  2.65&  7.94\\\\\n",
      "(10.08, 10.10) & 3 & 6.86 &  1.73&  5.20\\\\\n",
      "(10.10, 10.11) & 2 & 2.74 &  1.41&  4.24\\\\\n",
      "(10.11, 10.13) & 3 & 0.83 &  1.73&  5.20\\\\\n",
      "(10.13, 10.15) & 0 & 0.19 &  0.00&  0.00\\\\\n",
      "(10.15, 10.17) & 0 & 0.03 &  0.00&  0.00\\\\\n"
     ]
    }
   ],
   "source": [
    "for i in range(len(counts)):\n",
    "\n",
    "    #               bin edges                   counts          expected                         sigma\n",
    "    print(f\"({x[i]:.2f}, {x[i+1]:.2f}) \"\n",
    "          f\"& {counts[i]:.0f} \" \n",
    "          f\"& {(norm.pdf(mids(x)[i], mu, sig)* 100 * dtau):.2f} \" \n",
    "          f\"& {np.sqrt(counts[i]) : .2f} \"\n",
    "          f\"& {3*np.sqrt(counts[i]) : .2f}\\\\\\\\\")"
   ]
  }
 ],
 "metadata": {
  "kernelspec": {
   "display_name": "base",
   "language": "python",
   "name": "python3"
  },
  "language_info": {
   "codemirror_mode": {
    "name": "ipython",
    "version": 3
   },
   "file_extension": ".py",
   "mimetype": "text/x-python",
   "name": "python",
   "nbconvert_exporter": "python",
   "pygments_lexer": "ipython3",
   "version": "3.12.4"
  }
 },
 "nbformat": 4,
 "nbformat_minor": 2
}
